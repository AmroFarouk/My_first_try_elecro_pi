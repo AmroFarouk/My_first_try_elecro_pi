{
  "cells": [
    {
      "cell_type": "markdown",
      "metadata": {
        "id": "view-in-github",
        "colab_type": "text"
      },
      "source": [
        "<a href=\"https://colab.research.google.com/github/AmroFarouk/My_first_try_elecro_pi/blob/main/Amr_Farouk_abdul_rahman_data_prep_kit.ipynb\" target=\"_parent\"><img src=\"https://colab.research.google.com/assets/colab-badge.svg\" alt=\"Open In Colab\"/></a>"
      ]
    },
    {
      "cell_type": "code",
      "execution_count": null,
      "id": "6f0f9622-f85f-4f8a-8a34-c20398a335ee",
      "metadata": {
        "id": "6f0f9622-f85f-4f8a-8a34-c20398a335ee",
        "colab": {
          "base_uri": "https://localhost:8080/"
        },
        "outputId": "c7ecf169-cab5-40cd-c14c-c0fa6d24a12b"
      },
      "outputs": [
        {
          "output_type": "stream",
          "name": "stdout",
          "text": [
            "Mounted at /content/drive/\n"
          ]
        }
      ],
      "source": [
        "#hello, my name is Amr Farouk Abdul-Rahman\n",
        " #So that's my first project here to break ice and unleash undiscovered potentials.\n",
        " #Well, Neo didn't make the jump at his first try, but at least he had had some fresh air :)\n",
        " # I'm surffing stack overflow and some pieces of my code are AI aided from google gemini and will be refered to as (#Gem_aid), genrally I search for error reasons and fixes.\n",
        "\n",
        "\n",
        "#import primerly OS functions\n",
        "import os\n",
        "from pathlib import Path\n",
        "\n",
        "#importing math lib\n",
        "import numpy as np\n",
        "\n",
        "#importing data handling lib\n",
        "import pandas as pd\n",
        "\n",
        "#importing plotting lib\n",
        "import matplotlib.pyplot as plt\n",
        "\n",
        "#import debug function -limited useage- #import ipdb\n",
        "import pdb\n",
        "\n",
        "# first identifying environment whether it's running on PC or on Colab, then\n",
        " # importing library responsible for using functions handling the file system\n",
        " # operation.\n",
        "\n",
        "#to check notebook environment\n",
        "try: #(Gem_aid)\n",
        "   import google.colab\n",
        "   env_state=True\n",
        "except:\n",
        "   env_state=False\n",
        "\n",
        "\n",
        "# this is a condition for importing notebook right environment file handling\n",
        " # libraries\n",
        "if env_state:\n",
        "   from pathlib import Path\n",
        "   from google.colab import files\n",
        "   from google.colab import drive\n",
        "   drive.mount('/content/drive/', force_remount=True)\n"
      ]
    },
    {
      "cell_type": "code",
      "source": [
        "# It is a good start to make a parent class File for primary tasks such as\n",
        " # reading File path, make sure it's right in syntax and Then determind the file\n",
        " # extension\n",
        "class file_reader():\n",
        "\n",
        "    # this is the init function that is intended to make sure that file path is\n",
        "     # correct in syntax and even exists!\n",
        "     # initiate function for varifing file name as this is the basic opefration\n",
        "    def __init__ (self,file_path_1):\n",
        "        \"\"\"\n",
        "\n",
        "        Args:\n",
        "          file_path1:\n",
        "        \"\"\"\n",
        "        self.file_path_1 = file_path_1\n",
        "\n",
        "\n",
        "    #this function returns only the extension of the given file by extract the extension from the file name.\n",
        "     #then determen the pandas required code for reading the file based on it's extension.\n",
        "    def file_path_validate (self,file_path_1):\n",
        "        self.file_var1 = os.path.abspath(os.path.expanduser(file_path_1))\n",
        "        if not os.path.exists(self.file_var1):\n",
        "            raise FileNotFoundError(f\"File not found:{file_var1}\")\n",
        "\n",
        "\n",
        "    def file_extention (self,file_path_1):\n",
        "        #separates variable elements as split text and return two out puts, file name and its extension\n",
        "        file_name, file_extension = os.path.splitext(file_path_1)\n",
        "        self.file_extension = file_extension.lower()\n",
        "\n",
        "\n",
        "    '''def set_file_path (self,file_path1):\n",
        "      fi_path=\"\"\n",
        "      fi_ext=\"\"\n",
        "      self.fi_path = self.file_path_validate (self.file_path_1)\n",
        "      if fi_path:\n",
        "          self.fi_ext = self.file_extention_get (fi_path)'''\n",
        "\n",
        "    def get_File_extension (self):\n",
        "      return (self.fi_ext)\n",
        "\n",
        "    def get_file_v_name(self):\n",
        "      return (self.fi_path)\n",
        "\n",
        "#child class made for the data process porpuses\n",
        "class data_start(file_reader):\n",
        "\n",
        "    #Requested data operations:\n",
        "    #Data_frame\n",
        "    #Data_describe\n",
        "    #Data_operation: remove nulls and so\n",
        "\n",
        "    def __init__(self,file_path1):\n",
        "        \"\"\"\n",
        "\n",
        "        Args:\n",
        "          file_path1:\n",
        "        \"\"\"\n",
        "        super().__init__(file_path1)\n",
        "        # File initial operations, Read file\n",
        "        self.file_name = file_reader.get_file_path_validate(self,file_path1)\n",
        "        self.file_extension = file_reader.get_file_extention(self,file_path1)\n",
        "\n",
        "\n",
        "# using right data read extension:\n",
        "    def data_read (self):\n",
        "       match self.file_extension:\n",
        "          case \".csv\":\n",
        "            self.the_data_set = pd.read_csv(self.file_path1)\n",
        "          case \".txt\":\n",
        "            self.the_data_set = pd.read_txt(self.file_path1)\n",
        "          case \".xlsx\":\n",
        "            self.the_data_set = pd.read_xlsx(self.file_path1)\n",
        "       if self.the_data_set:\n",
        "          #returns the data frame\n",
        "          return(self.the_data_set)\n",
        "\n",
        "\n",
        "    def data_ops1 (self):\n",
        "     #styled_data_describe = self.the_data_set.describe(include=['object','bool']).relabel_index([\"row 1\", \"row 2\"], axis=0)\n",
        "      return()\n",
        "\n",
        "    def set_1():\n",
        "      pass\n",
        "\n",
        "    def get_1():\n",
        "      pass\n",
        "\n"
      ],
      "metadata": {
        "id": "iO0l0cb_0e4q"
      },
      "id": "iO0l0cb_0e4q",
      "execution_count": null,
      "outputs": []
    },
    {
      "cell_type": "code",
      "execution_count": null,
      "id": "d2ea836b-da2e-48bc-a697-dad975e7f821",
      "metadata": {
        "id": "d2ea836b-da2e-48bc-a697-dad975e7f821",
        "colab": {
          "base_uri": "https://localhost:8080/",
          "height": 346
        },
        "outputId": "34fe3e14-ec0d-449b-a4bf-91a4ee296a3d"
      },
      "outputs": [
        {
          "output_type": "error",
          "ename": "AttributeError",
          "evalue": "'str' object has no attribute 'file_extension'",
          "traceback": [
            "\u001b[0;31m---------------------------------------------------------------------------\u001b[0m",
            "\u001b[0;31mAttributeError\u001b[0m                            Traceback (most recent call last)",
            "\u001b[0;32m<ipython-input-5-c82f680dc6ab>\u001b[0m in \u001b[0;36m<cell line: 4>\u001b[0;34m()\u001b[0m\n\u001b[1;32m      2\u001b[0m \u001b[0;31m#user_file_input= input(\"Please enter where the file is!\")\u001b[0m\u001b[0;34m\u001b[0m\u001b[0;34m\u001b[0m\u001b[0m\n\u001b[1;32m      3\u001b[0m \u001b[0;31m#print(user_file_input)\u001b[0m\u001b[0;34m\u001b[0m\u001b[0;34m\u001b[0m\u001b[0m\n\u001b[0;32m----> 4\u001b[0;31m \u001b[0mnew_file\u001b[0m \u001b[0;34m=\u001b[0m \u001b[0mdata_start\u001b[0m\u001b[0;34m.\u001b[0m\u001b[0mdata_read\u001b[0m\u001b[0;34m(\u001b[0m\u001b[0;34m'/content/drive/My Drive/Colab Notebooks/listings.csv'\u001b[0m\u001b[0;34m)\u001b[0m\u001b[0;34m\u001b[0m\u001b[0;34m\u001b[0m\u001b[0m\n\u001b[0m\u001b[1;32m      5\u001b[0m \u001b[0;34m\u001b[0m\u001b[0m\n\u001b[1;32m      6\u001b[0m '''the_data= new_file.data_read()\n",
            "\u001b[0;32m<ipython-input-4-8a8e1b5f60af>\u001b[0m in \u001b[0;36mdata_read\u001b[0;34m(self)\u001b[0m\n\u001b[1;32m     63\u001b[0m \u001b[0;31m# using right data read extension:\u001b[0m\u001b[0;34m\u001b[0m\u001b[0;34m\u001b[0m\u001b[0m\n\u001b[1;32m     64\u001b[0m     \u001b[0;32mdef\u001b[0m \u001b[0mdata_read\u001b[0m \u001b[0;34m(\u001b[0m\u001b[0mself\u001b[0m\u001b[0;34m)\u001b[0m\u001b[0;34m:\u001b[0m\u001b[0;34m\u001b[0m\u001b[0;34m\u001b[0m\u001b[0m\n\u001b[0;32m---> 65\u001b[0;31m        \u001b[0mmatch\u001b[0m \u001b[0mself\u001b[0m\u001b[0;34m.\u001b[0m\u001b[0mfile_extension\u001b[0m\u001b[0;34m:\u001b[0m\u001b[0;34m\u001b[0m\u001b[0;34m\u001b[0m\u001b[0m\n\u001b[0m\u001b[1;32m     66\u001b[0m           \u001b[0mcase\u001b[0m \u001b[0;34m\".csv\"\u001b[0m\u001b[0;34m:\u001b[0m\u001b[0;34m\u001b[0m\u001b[0;34m\u001b[0m\u001b[0m\n\u001b[1;32m     67\u001b[0m             \u001b[0mself\u001b[0m\u001b[0;34m.\u001b[0m\u001b[0mthe_data_set\u001b[0m \u001b[0;34m=\u001b[0m \u001b[0mpd\u001b[0m\u001b[0;34m.\u001b[0m\u001b[0mread_csv\u001b[0m\u001b[0;34m(\u001b[0m\u001b[0mself\u001b[0m\u001b[0;34m.\u001b[0m\u001b[0mfile_path1\u001b[0m\u001b[0;34m)\u001b[0m\u001b[0;34m\u001b[0m\u001b[0;34m\u001b[0m\u001b[0m\n",
            "\u001b[0;31mAttributeError\u001b[0m: 'str' object has no attribute 'file_extension'"
          ]
        }
      ],
      "source": [
        "#main program\n",
        "#user_file_input= input(\"Please enter where the file is!\")\n",
        "#print(user_file_input)\n",
        "new_file = data_start.data_read('/content/drive/My Drive/Colab Notebooks/listings.csv')\n",
        "\n",
        "'''the_data= new_file.data_read()\n",
        "the_data= new_file.data_ops1()'''\n",
        "\n",
        "#File_read_type = new_file.start_read()\n",
        "\n",
        "#output:\n",
        "'''\t            name\t        host_name \tneighbourhood\t  room_type\t        last_review\n",
        "  count\t        407\t          407\t        407\t            407\t              360\n",
        "  unique  \t    406\t          178\t        15\t            3\t                166\n",
        "  top\t      Lovely private...\tDiana\t      SIXTH WARD\t    Entire home/apt\t  2024-01-28\n",
        "  freq\t        2            \t22\t        86\t            285\t              13           '''"
      ]
    },
    {
      "cell_type": "code",
      "source": [
        "#Main Interface:\n",
        "data_set = pd.read_csv(\"/content/drive/My Drive/Colab Notebooks/listings.csv\")\n",
        "data_set"
      ],
      "metadata": {
        "id": "f3RkseIi94te"
      },
      "id": "f3RkseIi94te",
      "execution_count": null,
      "outputs": []
    },
    {
      "cell_type": "code",
      "source": [
        "#vkfho vufdh\n",
        "\n",
        "new_var = print(data_set)\n",
        "new_var"
      ],
      "metadata": {
        "id": "2kzHL7JiQkcr"
      },
      "id": "2kzHL7JiQkcr",
      "execution_count": null,
      "outputs": []
    },
    {
      "cell_type": "code",
      "source": [],
      "metadata": {
        "id": "l-_hkf9MILOu"
      },
      "id": "l-_hkf9MILOu",
      "execution_count": null,
      "outputs": []
    }
  ],
  "metadata": {
    "kernelspec": {
      "display_name": "Python 3",
      "name": "python3"
    },
    "language_info": {
      "codemirror_mode": {
        "name": "ipython",
        "version": 3
      },
      "file_extension": ".py",
      "mimetype": "text/x-python",
      "name": "python",
      "nbconvert_exporter": "python",
      "pygments_lexer": "ipython3",
      "version": "3.11.7"
    },
    "colab": {
      "provenance": [],
      "include_colab_link": true
    }
  },
  "nbformat": 4,
  "nbformat_minor": 5
}